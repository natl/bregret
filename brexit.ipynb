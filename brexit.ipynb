{
 "cells": [
  {
   "cell_type": "code",
   "execution_count": 34,
   "metadata": {
    "collapsed": false
   },
   "outputs": [],
   "source": [
    "import numpy as np\n",
    "import matplotlib.pyplot as plt\n",
    "import json\n",
    "from shapely.geometry import shape, MultiPolygon\n",
    "from descartes import PolygonPatch\n",
    "import csv\n",
    "from matplotlib.collections import PatchCollection\n",
    "from matplotlib.patches import Rectangle"
   ]
  },
  {
   "cell_type": "code",
   "execution_count": 35,
   "metadata": {
    "collapsed": false,
    "scrolled": true
   },
   "outputs": [
    {
     "name": "stdout",
     "output_type": "stream",
     "text": [
      "Votes  Constituency\n",
      "  597 Na h-Eileanan an Iar\n",
      " 1224 Glasgow East\n",
      " 1327 Airdrie and Shotts\n",
      " 1350 Caithness, Sutherland and Easter Ross\n",
      " 1367 Banff and Buchan\n",
      " 1373 Orkney and Shetland\n",
      " 1402 Glenrothes\n",
      " 1508 Motherwell and Wishaw\n",
      " 1548 Walsall North\n",
      " 1566 Easington\n",
      "..... .....\n",
      "18706 Battersea\n",
      "18949 Brighton, Pavilion\n",
      "19229 Hackney South and Shoreditch\n",
      "19790 Islington North\n",
      "19983 Richmond Park\n",
      "20331 Hackney North and Stoke Newington\n",
      "21307 Holborn and St Pancras\n",
      "22229 Hampstead and Kilburn\n",
      "22928 Bristol West\n",
      "23448 Hornsey and Wood Green\n"
     ]
    }
   ],
   "source": [
    "with open(\"petition-jun-29-8h.json\") as json_file:\n",
    "    petition = json.load(json_file)\n",
    "\n",
    "total_petition_votes = 0\n",
    "signatures_by_constituency = {}\n",
    "for constituency in petition['data']['attributes']['signatures_by_constituency']:\n",
    "    signatures_by_constituency[constituency['name']] = constituency['signature_count']\n",
    "    total_petition_votes += constituency['signature_count']\n",
    "    \n",
    "signature_list = [(k,v) for (k,v) in signatures_by_constituency.items()]\n",
    "signature_list.sort(key=lambda x: x[1])\n",
    "\n",
    "print(\"Votes  Constituency\")\n",
    "for constituency in signature_list[:10]:\n",
    "    print(\"%5i %s\" % constituency[::-1])\n",
    "print(\"..... .....\")\n",
    "for constituency in signature_list[-10:]:\n",
    "    print(\"%5i %s\" % constituency[::-1])"
   ]
  },
  {
   "cell_type": "code",
   "execution_count": 36,
   "metadata": {
    "collapsed": false
   },
   "outputs": [
    {
     "name": "stdout",
     "output_type": "stream",
     "text": [
      "Votes  Constituency\n",
      "  597 Na h-Eileanan Siar\n",
      "  633 Orkney Islands\n",
      "  739 Shetland Islands\n",
      "  743 Ballymoney\n",
      "  795 Moyle\n",
      " 1093 Isles of Scilly\n",
      " 1115 Ballymena\n",
      " 1133 Cookstown\n",
      " 1133 Magherafelt\n",
      " 1174 Limavady\n",
      "..... .....\n",
      "38933 Southwark\n",
      "38995 Manchester\n",
      "39118 Brighton and Hove\n",
      "39303 City of Edinburgh\n",
      "39560 Hackney\n",
      "46634 Leeds\n",
      "46762 Lambeth\n",
      "49307 Bristol, City of\n",
      "50434 Wandsworth\n",
      "53968 Birmingham\n"
     ]
    }
   ],
   "source": [
    "conversions = []\n",
    "with open(\"wards_to_lads.csv\") as csv_file:\n",
    "    reader = csv.reader(csv_file)\n",
    "    for ii, line in enumerate(reader):\n",
    "        if ii != 0:\n",
    "            ward = line[0]\n",
    "            district = line[1]\n",
    "            conversions.append((ward, district))\n",
    "\n",
    "signatures_by_lad = {}\n",
    "for (ward, count) in signatures_by_constituency.items():\n",
    "    matches = 0\n",
    "    for (ward_match, district) in conversions:\n",
    "        if ward == ward_match:\n",
    "            matches += 1\n",
    "        if district not in signatures_by_lad:\n",
    "            signatures_by_lad[district] = 0\n",
    "    \n",
    "    for (ward_match, district) in conversions:\n",
    "        if ward == ward_match:\n",
    "            signatures_by_lad[district] += count/matches\n",
    "\n",
    "signature_list = [[k, v] for (k, v) in signatures_by_lad.items()]\n",
    "signature_list.sort(key=lambda x: x[1])\n",
    "\n",
    "# # tidying\n",
    "# for constituency in signature_list:\n",
    "#     if constituency[0] == \"Na h-Eileanan Siar\":\n",
    "#         constituency[0] = \"Eilean Siar\"\n",
    "        \n",
    "\n",
    "print(\"Votes  Constituency\")\n",
    "for constituency in signature_list[:10]:\n",
    "    print(\"%5i %s\" % tuple(constituency[::-1]))\n",
    "print(\"..... .....\")\n",
    "for constituency in signature_list[-10:]:\n",
    "    print(\"%5i %s\" % tuple(constituency[::-1]))"
   ]
  },
  {
   "cell_type": "code",
   "execution_count": 37,
   "metadata": {
    "collapsed": true
   },
   "outputs": [],
   "source": [
    "def mercator(p):\n",
    "    radius = 6378137\n",
    "    out = [0, 0]\n",
    "    out[0] = np.pi * radius * p[0] / 180;\n",
    "    out[1] = radius * np.log(np.tan((45 + p[1]/2)*np.pi/180));\n",
    "\n",
    "    return out"
   ]
  },
  {
   "cell_type": "code",
   "execution_count": 38,
   "metadata": {
    "collapsed": false
   },
   "outputs": [],
   "source": [
    "# Load in Geo data\n",
    "\n",
    "with open(\"geo_eng_lad.json\") as json_file:\n",
    "    lads = json.load(json_file) \n",
    "\n",
    "feature_collection = lads['features']\n",
    "feature = feature_collection[0]\n",
    "\n",
    "# convert to Mercator\n",
    "for feature in feature_collection:\n",
    "    p = feature['geometry']\n",
    "    if p['type'] == \"Polygon\":\n",
    "        for polygon in p['coordinates']:\n",
    "            for point in polygon:\n",
    "                point[:] = mercator(point)\n",
    "    \n",
    "    elif p['type'] == \"MultiPolygon\":\n",
    "        for polygons in p['coordinates']:\n",
    "            for polygon in polygons:\n",
    "                for point in polygon:\n",
    "                    point[:] = mercator(point)\n",
    "\n"
   ]
  },
  {
   "cell_type": "code",
   "execution_count": 39,
   "metadata": {
    "collapsed": false
   },
   "outputs": [],
   "source": [
    "min_votes = signature_list[1][1]\n",
    "max_votes = signature_list[-1][1]\n",
    "def get_color(votes):\n",
    "    c = (votes)/(max_votes)\n",
    "    return (1, 1, 1 - c)\n",
    "\n",
    "# Convert to patches\n",
    "\n",
    "patches = []\n",
    "names = []\n",
    "minx = np.Inf\n",
    "miny = np.Inf\n",
    "maxx = -np.Inf\n",
    "maxy = -np.Inf\n",
    "\n",
    "\n",
    "key_exists = []\n",
    "\n",
    "england_names = []\n",
    "for feature in feature_collection:\n",
    "    name = feature['properties']['LAD13NM']\n",
    "    if name == \"Eilean Siar\": name = \"Na h-Eileanan Siar\"\n",
    "    england_names.append(name)\n",
    "    p = shape(feature['geometry'])\n",
    "    try:\n",
    "        votes = signatures_by_lad[name]\n",
    "        key_exists.append(name)\n",
    "    except KeyError:\n",
    "        votes = 0\n",
    "    if isinstance(p, MultiPolygon):\n",
    "        for poly in p:\n",
    "            lminx, lminy, lmaxx, lmaxy = p.bounds\n",
    "            if lminx < minx: minx = lminx\n",
    "            if lminy < miny: miny = lminy\n",
    "            if lmaxx > maxx: maxx = lmaxx\n",
    "            if lmaxy > maxy: maxy = lmaxy\n",
    "            patches.append(PolygonPatch(poly, fc=get_color(votes), ec='#555555', lw=0.2, alpha=1., zorder=1))\n",
    "    else:\n",
    "        patches.append(PolygonPatch(p, fc=get_color(votes), ec='#555555', lw=0.2, alpha=1., zorder=1))\n",
    "        lminx, lminy, lmaxx, lmaxy = p.bounds\n",
    "        if lminx < minx: minx = lminx\n",
    "        if lminy < miny: miny = lminy\n",
    "        if lmaxx > maxx: maxx = lmaxx\n",
    "        if lmaxy > maxy: maxy = lmaxy\n"
   ]
  },
  {
   "cell_type": "code",
   "execution_count": 40,
   "metadata": {
    "collapsed": false
   },
   "outputs": [
    {
     "name": "stdout",
     "output_type": "stream",
     "text": [
      "Votes  Constituency\n",
      " 1093 Isles of Scilly\n",
      " 1195 Boston\n",
      " 1723 Barrow-in-Furness\n",
      " 1824 Tamworth\n",
      " 1903 Bolsover\n",
      " 1955 Hartlepool\n",
      " 1998 Corby\n",
      " 2130 West Somerset\n",
      " 2198 Burnley\n",
      " 2241 Forest Heath\n",
      "..... .....\n",
      "38325 Barnet\n",
      "38933 Southwark\n",
      "38995 Manchester\n",
      "39118 Brighton and Hove\n",
      "39560 Hackney\n",
      "46634 Leeds\n",
      "46762 Lambeth\n",
      "49307 Bristol, City of\n",
      "50434 Wandsworth\n",
      "53968 Birmingham\n"
     ]
    }
   ],
   "source": [
    "signature_list = [[k, v] for (k, v) in signatures_by_lad.items() if k in england_names]\n",
    "signature_list.sort(key=lambda x: x[1])\n",
    "        \n",
    "\n",
    "print(\"Votes  Constituency\")\n",
    "for constituency in signature_list[:10]:\n",
    "    print(\"%5i %s\" % tuple(constituency[::-1]))\n",
    "print(\"..... .....\")\n",
    "for constituency in signature_list[-10:]:\n",
    "    print(\"%5i %s\" % tuple(constituency[::-1]))"
   ]
  },
  {
   "cell_type": "code",
   "execution_count": 41,
   "metadata": {
    "collapsed": false
   },
   "outputs": [],
   "source": [
    "fig = plt.figure()\n",
    "ax = fig.add_subplot(111)\n",
    "\n",
    "w, h = maxx - minx, maxy - miny\n",
    "xmin, xmax = minx - 0.2 * w, maxx + 0.2 * w\n",
    "ymin, ymax = miny - 0.2 * h, maxy + 0.2 * h\n",
    "ax.set_xlim([xmin, xmax])\n",
    "ax.set_ylim([ymin, ymax])\n",
    "ax.set_aspect(1)\n",
    "\n",
    "ax.add_collection(PatchCollection(patches, match_original=True))\n",
    "ax.set_xticks([])\n",
    "ax.set_yticks([])\n",
    "\n",
    "#scale\n",
    "delta = h/20\n",
    "x = 0.8*delta\n",
    "ax.add_patch(Rectangle((xmin + w, ymin + 5*delta), x, x, fc=get_color(50000)))\n",
    "ax.text(xmin + w + delta, ymin + 5*delta, \"50000+\")\n",
    "ax.add_patch(Rectangle((xmin + w, ymin + 4*delta), x, x, fc=get_color(30000)))\n",
    "ax.text(xmin + w + delta, ymin + 4*delta, \"30000\")\n",
    "ax.add_patch(Rectangle((xmin + w, ymin + 3*delta), x, x, fc=get_color(10000)))\n",
    "ax.text(xmin + w + delta, ymin + 3*delta, \"10000\")\n",
    "ax.add_patch(Rectangle((xmin + w, ymin + 2*delta), x, x, fc=get_color(1000)))\n",
    "ax.text(xmin + w + delta, ymin + 2*delta, \"1000\")\n",
    "ax.add_patch(Rectangle((xmin + w, ymin + 1*delta), x, x, fc=get_color(0)))\n",
    "ax.text(xmin + w + delta, ymin + 1*delta, \"0\")\n",
    "\n",
    "ax.text(xmin + 0.2*w, ymax - 0.2*w, \"Petition Signatures\")\n",
    "ax.text(xmin + delta, ymin + delta, \"N. Lampe, 2016\", color=\"gray\", fontsize=\"x-small\")\n",
    "\n",
    "fig.savefig(\"petition.png\", bbox_inches=\"tight\", dpi=300)\n",
    "fig.savefig(\"petition.svg\", bbox_inches=\"tight\")"
   ]
  },
  {
   "cell_type": "code",
   "execution_count": 42,
   "metadata": {
    "collapsed": false
   },
   "outputs": [],
   "source": [
    "# load election data\n",
    "\n",
    "with open(\"referendum.json\") as referendum_file:\n",
    "    ref = json.load(referendum_file)\n",
    "    \n",
    "def get_district(name):\n",
    "    for district in ref:\n",
    "        if district['name'] == name:\n",
    "            d = {}\n",
    "            d['electorate'] = district['electorate']\n",
    "            d['name'] = district['name']\n",
    "            for answer in district['answers']:\n",
    "                if answer['shortText'] == \"Remain\":\n",
    "                    d['remain'] = answer['votes']\n",
    "                else:\n",
    "                    d['leave'] = answer['votes']\n",
    "            return d\n",
    "\n",
    "england_votes = {'leave': 0, 'remain': 0, 'electorate': 0}\n",
    "for name in england_names:\n",
    "    district = get_district(name)\n",
    "    england_votes['remain'] += district['remain']\n",
    "    england_votes['leave'] += district['leave']\n",
    "    england_votes['electorate'] += district['electorate']"
   ]
  },
  {
   "cell_type": "code",
   "execution_count": 43,
   "metadata": {
    "collapsed": false
   },
   "outputs": [
    {
     "name": "stdout",
     "output_type": "stream",
     "text": [
      "Bregret  Constituency\n",
      "2.779476 Hartlepool\n",
      "2.851743 Ashfield\n",
      "2.866470 Redcar and Cleveland\n",
      "3.036354 Boston\n",
      "3.039595 Cannock Chase\n",
      "3.068490 Blackpool\n",
      "3.117577 North East Lincolnshire\n",
      "3.140437 Doncaster\n",
      "3.160928 Rotherham\n",
      "3.178408 Mansfield\n",
      "..... .....\n",
      "22.411624 Hammersmith and Fulham\n",
      "22.524584 Richmond upon Thames\n",
      "22.975091 Wandsworth\n",
      "23.718662 Haringey\n",
      "24.227726 Hackney\n",
      "25.368339 Camden\n",
      "26.039569 Islington\n",
      "30.560388 Kensington and Chelsea\n",
      "60.800445 Isles of Scilly\n",
      "220.586130 City of London\n"
     ]
    }
   ],
   "source": [
    "bregret_list = [[name, 100*signatures_by_lad[name]/get_district(name)['electorate']] for name in england_names]\n",
    "bregret_list.sort(key=lambda x: x[1])\n",
    "\n",
    "print(\"Bregret  Constituency\")\n",
    "for constituency in bregret_list[:10]:\n",
    "    print(\"%7f %s\" % tuple(constituency[::-1]))\n",
    "print(\"..... .....\")\n",
    "for constituency in bregret_list[-10:]:\n",
    "    print(\"%7f %s\" % tuple(constituency[::-1]))"
   ]
  },
  {
   "cell_type": "code",
   "execution_count": 44,
   "metadata": {
    "collapsed": false
   },
   "outputs": [],
   "source": [
    "def get_color_pct(frac):\n",
    "    c = frac/0.3\n",
    "    if c > 1: c = 1\n",
    "    return (1, 1, 1 - c)\n",
    "\n",
    "# Convert to patches\n",
    "\n",
    "patches = []\n",
    "names = []\n",
    "minx = np.Inf\n",
    "miny = np.Inf\n",
    "maxx = -np.Inf\n",
    "maxy = -np.Inf\n",
    "\n",
    "\n",
    "key_exists = []\n",
    "\n",
    "for feature in feature_collection:\n",
    "    name = feature['properties']['LAD13NM']\n",
    "    if name == \"Eilean Siar\": name = \"Na h-Eileanan Siar\"\n",
    "    population = get_district(name)[\"electorate\"]\n",
    "    p = shape(feature['geometry'])\n",
    "    try:\n",
    "        votes = signatures_by_lad[name]\n",
    "        key_exists.append(name)\n",
    "    except KeyError:\n",
    "        votes = 0\n",
    "    if name == \"City of London\": votes = 0\n",
    "    if isinstance(p, MultiPolygon):\n",
    "        for poly in p:\n",
    "            lminx, lminy, lmaxx, lmaxy = p.bounds\n",
    "            if lminx < minx: minx = lminx\n",
    "            if lminy < miny: miny = lminy\n",
    "            if lmaxx > maxx: maxx = lmaxx\n",
    "            if lmaxy > maxy: maxy = lmaxy\n",
    "            patches.append(PolygonPatch(poly, fc=get_color_pct(votes/population), ec='#555555', lw=0.2, alpha=1., zorder=1))\n",
    "    else:\n",
    "        patches.append(PolygonPatch(p, fc=get_color_pct(votes/population), ec='#555555', lw=0.2, alpha=1., zorder=1))\n",
    "        lminx, lminy, lmaxx, lmaxy = p.bounds\n",
    "        if lminx < minx: minx = lminx\n",
    "        if lminy < miny: miny = lminy\n",
    "        if lmaxx > maxx: maxx = lmaxx\n",
    "        if lmaxy > maxy: maxy = lmaxy"
   ]
  },
  {
   "cell_type": "code",
   "execution_count": 45,
   "metadata": {
    "collapsed": false
   },
   "outputs": [],
   "source": [
    "fig = plt.figure()\n",
    "ax = fig.add_subplot(111)\n",
    "\n",
    "w, h = maxx - minx, maxy - miny\n",
    "xmin, xmax = minx - 0.2 * w, maxx + 0.2 * w\n",
    "ymin, ymax = miny - 0.2 * h, maxy + 0.2 * h\n",
    "ax.set_xlim([xmin, xmax])\n",
    "ax.set_ylim([ymin, ymax])\n",
    "ax.set_aspect(1)\n",
    "\n",
    "ax.add_collection(PatchCollection(patches, match_original=True))\n",
    "ax.set_xticks([])\n",
    "ax.set_yticks([])\n",
    "\n",
    "#scale\n",
    "delta = h/20\n",
    "x = 0.8*delta\n",
    "ax.add_patch(Rectangle((xmin + w, ymin + 5*delta), x, x, fc=get_color_pct(0.3)))\n",
    "ax.text(xmin + w + delta, ymin + 5*delta, \"30%\")\n",
    "ax.add_patch(Rectangle((xmin + w, ymin + 4*delta), x, x, fc=get_color_pct(0.2)))\n",
    "ax.text(xmin + w + delta, ymin + 4*delta, \"20%\")\n",
    "ax.add_patch(Rectangle((xmin + w, ymin + 3*delta), x, x, fc=get_color_pct(0.1)))\n",
    "ax.text(xmin + w + delta, ymin + 3*delta, \"10%\")\n",
    "ax.add_patch(Rectangle((xmin + w, ymin + 2*delta), x, x, fc=get_color_pct(0.05)))\n",
    "ax.text(xmin + w + delta, ymin + 2*delta, \"5%\")\n",
    "ax.add_patch(Rectangle((xmin + w, ymin + 1*delta), x, x, fc=get_color_pct(0)))\n",
    "ax.text(xmin + w + delta, ymin + 1*delta, \"0%\")\n",
    "\n",
    "ax.text(xmin + 0.2*w, ymax - 0.2*w, \"Bregretfulness Index\")\n",
    "ax.text(xmin + delta, ymin + delta, \"N. Lampe, 2016\", color=\"gray\", fontsize=\"x-small\")\n",
    "\n",
    "fig.savefig(\"bregret.png\", bbox_inches=\"tight\", dpi=300)\n",
    "fig.savefig(\"bregret.svg\", bbox_inches=\"tight\")"
   ]
  },
  {
   "cell_type": "code",
   "execution_count": 46,
   "metadata": {
    "collapsed": false
   },
   "outputs": [
    {
     "name": "stdout",
     "output_type": "stream",
     "text": [
      "3.928344497721161\n",
      "Bregret (%)  District\n",
      " -56.0       Hambleton\n",
      " -52.6       Redcar and Cleveland\n",
      " -52.4       Barrow-in-Furness\n",
      " -49.0       Ashfield\n",
      " -47.7       Tamworth\n",
      " -46.3       Cannock Chase\n",
      " -45.3       Hartlepool\n",
      " -45.0       North Lincolnshire\n",
      " -44.9       Nuneaton and Bedworth\n",
      " -44.4       Rotherham\n",
      ".....        .....\n",
      "  67.2       Wandsworth\n",
      "  74.8       Haringey\n",
      "  79.9       Hammersmith and Fulham\n",
      "  86.3       Hackney\n",
      "  91.4       Tower Hamlets\n",
      "  93.4       Islington\n",
      " 103.1       Camden\n",
      " 165.1       Kensington and Chelsea\n",
      " 435.1       Isles of Scilly\n",
      "1466.2       City of London\n"
     ]
    }
   ],
   "source": [
    "# Breget differential\n",
    "total_english_petition_votes = sum([signatures_by_lad[name] for name in england_names])\n",
    "bregret_differential = {}\n",
    "scaling = england_votes['remain']/total_english_petition_votes\n",
    "print(scaling)\n",
    "for name in england_names:\n",
    "    district = get_district(name)\n",
    "    remain_votes = district['remain']\n",
    "    petition_signatures = signatures_by_lad[name]\n",
    "    expected_signatures = petition_signatures*scaling\n",
    "    bregret_differential[name] = 100*(expected_signatures - remain_votes)/remain_votes\n",
    "    \n",
    "\n",
    "bregret_diff_list = [[k,v] for (k,v) in bregret_differential.items()]\n",
    "bregret_diff_list.sort(key=lambda x: x[1])\n",
    "\n",
    "print(\"Bregret (%)  District\")\n",
    "for constituency in bregret_diff_list[:10]:\n",
    "    print(\"%6.1f       %s\" % tuple(constituency[::-1]))\n",
    "print(\".....        .....\")\n",
    "for constituency in bregret_diff_list[-10:]:\n",
    "    print(\"%6.1f       %s\" % tuple(constituency[::-1]))\n",
    "\n"
   ]
  },
  {
   "cell_type": "code",
   "execution_count": 47,
   "metadata": {
    "collapsed": true
   },
   "outputs": [],
   "source": [
    "# plot bregret\n",
    "\n",
    "def get_color_differential(pct):\n",
    "    if pct > 50: pct = 50\n",
    "    if pct < -50: pct = -50\n",
    "    if pct < 0:\n",
    "        c = -pct/50\n",
    "        return (1 - c, 1 - c, 1)\n",
    "    if pct >= 0:\n",
    "        c = pct/50\n",
    "        return (1, 1, 1 - c)\n",
    "\n",
    "# Convert to patches\n",
    "\n",
    "patches = []\n",
    "names = []\n",
    "minx = np.Inf\n",
    "miny = np.Inf\n",
    "maxx = -np.Inf\n",
    "maxy = -np.Inf\n",
    "\n",
    "\n",
    "key_exists = []\n",
    "\n",
    "for feature in feature_collection:\n",
    "    name = feature['properties']['LAD13NM']\n",
    "    if name == \"Eilean Siar\": name = \"Na h-Eileanan Siar\"\n",
    "    population = get_district(name)[\"electorate\"]\n",
    "    p = shape(feature['geometry'])\n",
    "    try:\n",
    "        votes = signatures_by_lad[name]\n",
    "        bregret = bregret_differential[name]\n",
    "    except KeyError:\n",
    "        bregret = 0\n",
    "    if isinstance(p, MultiPolygon):\n",
    "        for poly in p:\n",
    "            lminx, lminy, lmaxx, lmaxy = p.bounds\n",
    "            if lminx < minx: minx = lminx\n",
    "            if lminy < miny: miny = lminy\n",
    "            if lmaxx > maxx: maxx = lmaxx\n",
    "            if lmaxy > maxy: maxy = lmaxy\n",
    "            patches.append(PolygonPatch(poly, fc=get_color_differential(bregret), ec='#555555', lw=0.2, alpha=1., zorder=1))\n",
    "    else:\n",
    "        patches.append(PolygonPatch(p, fc=get_color_differential(bregret), ec='#555555', lw=0.2, alpha=1., zorder=1))\n",
    "        lminx, lminy, lmaxx, lmaxy = p.bounds\n",
    "        if lminx < minx: minx = lminx\n",
    "        if lminy < miny: miny = lminy\n",
    "        if lmaxx > maxx: maxx = lmaxx\n",
    "        if lmaxy > maxy: maxy = lmaxy"
   ]
  },
  {
   "cell_type": "code",
   "execution_count": 48,
   "metadata": {
    "collapsed": false
   },
   "outputs": [],
   "source": [
    "fig = plt.figure()\n",
    "ax = fig.add_subplot(111)\n",
    "\n",
    "w, h = maxx - minx, maxy - miny\n",
    "xmin, xmax = minx - 0.2 * w, maxx + 0.2 * w\n",
    "ymin, ymax = miny - 0.2 * h, maxy + 0.2 * h\n",
    "ax.set_xlim([xmin, xmax])\n",
    "ax.set_ylim([ymin, ymax])\n",
    "ax.set_aspect(1)\n",
    "\n",
    "ax.add_collection(PatchCollection(patches, match_original=True))\n",
    "ax.set_xticks([])\n",
    "ax.set_yticks([])\n",
    "\n",
    "#scale\n",
    "delta = h/20\n",
    "x = 0.8*delta\n",
    "ax.add_patch(Rectangle((xmin + w, ymin + 5*delta), x, x, fc=get_color_differential(50)))\n",
    "ax.text(xmin + w + delta, ymin + 5*delta, \"50%\")\n",
    "ax.add_patch(Rectangle((xmin + w, ymin + 4*delta), x, x, fc=get_color_differential(20)))\n",
    "ax.text(xmin + w + delta, ymin + 4*delta, \"20%\")\n",
    "ax.add_patch(Rectangle((xmin + w, ymin + 3*delta), x, x, fc=get_color_differential(0)))\n",
    "ax.text(xmin + w + delta, ymin + 3*delta, \"0%\")\n",
    "ax.add_patch(Rectangle((xmin + w, ymin + 2*delta), x, x, fc=get_color_differential(-20)))\n",
    "ax.text(xmin + w + delta, ymin + 2*delta, \"20%\")\n",
    "ax.add_patch(Rectangle((xmin + w, ymin + 1*delta), x, x, fc=get_color_differential(-50)))\n",
    "ax.text(xmin + w + delta, ymin + 1*delta, \"-50%\")\n",
    "\n",
    "ax.text(xmin + 0.2*w, ymax - 0.2*w, \"Bregret Difference\")\n",
    "ax.text(xmin + delta, ymin + delta, \"N. Lampe, 2016\", color=\"gray\", fontsize=\"x-small\")\n",
    "\n",
    "fig.savefig(\"bregret_diff.png\", bbox_inches=\"tight\", dpi=300)\n",
    "fig.savefig(\"bregret_diff.svg\", bbox_inches=\"tight\")"
   ]
  },
  {
   "cell_type": "code",
   "execution_count": 49,
   "metadata": {
    "collapsed": false
   },
   "outputs": [
    {
     "name": "stdout",
     "output_type": "stream",
     "text": [
      "Total Petition Signatures: 3779528\n",
      "Count from Wards: 3779528\n",
      "Count from LADs: 3779527\n",
      "Total English Petition Signatures: 3372329\n",
      "English Remain Votes: 13247674\n",
      "English Leave Votes: 15187583\n"
     ]
    }
   ],
   "source": [
    "print(\"Total Petition Signatures: \" + str(total_petition_votes))\n",
    "print(\"Count from Wards: \" + str(int(sum([v for v in signatures_by_constituency.values()]))))\n",
    "print(\"Count from LADs: \" + str(int(sum([v for v in signatures_by_lad.values()]))))\n",
    "print(\"Total English Petition Signatures: \" + str(int(total_english_petition_votes)))\n",
    "print(\"English Remain Votes: \" + str(england_votes[\"remain\"]))\n",
    "print(\"English Leave Votes: \" + str(england_votes[\"leave\"]))"
   ]
  },
  {
   "cell_type": "code",
   "execution_count": null,
   "metadata": {
    "collapsed": true
   },
   "outputs": [],
   "source": []
  }
 ],
 "metadata": {
  "kernelspec": {
   "display_name": "Python 3",
   "language": "python",
   "name": "python3"
  },
  "language_info": {
   "codemirror_mode": {
    "name": "ipython",
    "version": 3
   },
   "file_extension": ".py",
   "mimetype": "text/x-python",
   "name": "python",
   "nbconvert_exporter": "python",
   "pygments_lexer": "ipython3",
   "version": "3.5.1"
  },
  "widgets": {
   "state": {},
   "version": "1.1.2"
  }
 },
 "nbformat": 4,
 "nbformat_minor": 0
}
