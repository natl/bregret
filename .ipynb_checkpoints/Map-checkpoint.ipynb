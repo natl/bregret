{
 "cells": [
  {
   "cell_type": "code",
   "execution_count": 5,
   "metadata": {
    "collapsed": false
   },
   "outputs": [],
   "source": [
    "from IPython.display import display\n",
    "from bqplot import (Figure, Map, Mercator, Orthographic, ColorScale, ColorAxis,\n",
    "                    AlbersUSA, topo_load, Tooltip)"
   ]
  },
  {
   "cell_type": "markdown",
   "metadata": {},
   "source": [
    "## Basic Map ##"
   ]
  },
  {
   "cell_type": "code",
   "execution_count": 6,
   "metadata": {
    "collapsed": false
   },
   "outputs": [],
   "source": [
    "sc_geo = Mercator()\n",
    "x = Map(scales={'projection': sc_geo})\n",
    "fig = Figure(marks=[x], title='Basic Map Example')\n",
    "display(fig)"
   ]
  },
  {
   "cell_type": "markdown",
   "metadata": {
    "collapsed": true
   },
   "source": [
    "## Advanced Map and Projection ##"
   ]
  },
  {
   "cell_type": "code",
   "execution_count": 7,
   "metadata": {
    "collapsed": false
   },
   "outputs": [],
   "source": [
    "sc_geo = Orthographic(scale_factor=375, center=[0, 25], rotate=(-50, 0))\n",
    "x = Map(map_data=topo_load('WorldMapData.json'), scales={'projection': sc_geo}, \n",
    "        colors={682: 'Green', 356: 'Red', 643: '#0000ff', 'default_color': 'DarkOrange'})\n",
    "fig = Figure(marks=[x], fig_color='deepskyblue', title='Advanced Map Example')\n",
    "display(fig)"
   ]
  },
  {
   "cell_type": "code",
   "execution_count": 8,
   "metadata": {
    "collapsed": false
   },
   "outputs": [],
   "source": [
    "sc_geo.scale = 350"
   ]
  },
  {
   "cell_type": "markdown",
   "metadata": {},
   "source": [
    "## Choropleth ##"
   ]
  },
  {
   "cell_type": "code",
   "execution_count": 9,
   "metadata": {
    "collapsed": false
   },
   "outputs": [],
   "source": [
    "sc_geo = Mercator()\n",
    "sc_c1 = ColorScale(scheme='YlOrRd')\n",
    "\n",
    "map_styles = {'color': {643: 105., 4: 21., 398: 23., 156: 42., 124:78., 76: 98.},\n",
    "              'scales': {'projection': sc_geo, 'color': sc_c1}, 'colors': {'default_color': 'Grey'}}\n",
    "\n",
    "axis = ColorAxis(scale=sc_c1)\n",
    "\n",
    "x = Map(map_data=topo_load('WorldMapData.json'), **map_styles)\n",
    "fig = Figure(marks=[x], axes=[axis],title='Choropleth Example')\n",
    "display(fig)"
   ]
  },
  {
   "cell_type": "markdown",
   "metadata": {},
   "source": [
    "## Alternate Map Data ##"
   ]
  },
  {
   "cell_type": "code",
   "execution_count": 10,
   "metadata": {
    "collapsed": false
   },
   "outputs": [],
   "source": [
    "sc_geo = AlbersUSA()\n",
    "x = Map(map_data=topo_load('USMapData.json'), \n",
    "            scales={'projection': sc_geo})\n",
    "fig = Figure(marks=[x], title='US States Map Example')\n",
    "display(fig)"
   ]
  },
  {
   "cell_type": "markdown",
   "metadata": {},
   "source": [
    "## Interactions ##"
   ]
  },
  {
   "cell_type": "code",
   "execution_count": 11,
   "metadata": {
    "collapsed": false
   },
   "outputs": [],
   "source": [
    "def_tt = Tooltip(fields=['id', 'name'])\n",
    "map_mark = Map(scales={'projection': Mercator()}, tooltip=def_tt)\n",
    "map_mark.interactions = {'click': 'select', 'hover': 'tooltip'}\n",
    "fig = Figure(marks=[map_mark], title='Interactions Example')\n",
    "display(fig)"
   ]
  }
 ],
 "metadata": {
  "kernelspec": {
   "display_name": "Python 3",
   "language": "python",
   "name": "python3"
  },
  "language_info": {
   "codemirror_mode": {
    "name": "ipython",
    "version": 3
   },
   "file_extension": ".py",
   "mimetype": "text/x-python",
   "name": "python",
   "nbconvert_exporter": "python",
   "pygments_lexer": "ipython3",
   "version": "3.5.1"
  },
  "widgets": {
   "state": {
    "05b2de7164254d78b39ea2fa661ed95b": {
     "views": [
      {
       "cell_index": 7
      }
     ]
    },
    "05d7d867f6aa4a9a95e00fd423bb57c4": {
     "views": []
    },
    "099abfc1fdd14142bf45c83e71339a1b": {
     "views": []
    },
    "0d57ad1ebd8f4d8c852b29a16894d4e1": {
     "views": []
    },
    "10e5c6ca76bc4986a04a7eb6a0415ee7": {
     "views": []
    },
    "10e91402508643afa6a23713b92356a0": {
     "views": []
    },
    "11321c9d0af9411798c8517c077351ca": {
     "views": []
    },
    "122f12f236dd4588ae7b381075c634f0": {
     "views": []
    },
    "2b665cb612104ec68cf8699b10ec9461": {
     "views": []
    },
    "3304d8aeb11d4055afd73af7320e5248": {
     "views": []
    },
    "3813a1b261a840cfbc3f1bd6082647cf": {
     "views": []
    },
    "3a946cdfa1a74645b61228f4a028136a": {
     "views": [
      {
       "cell_index": 2
      }
     ]
    },
    "3abee8a6970847029854b3e2e4eb0d96": {
     "views": []
    },
    "4575114532a64050986cb86a3ca4b03e": {
     "views": []
    },
    "45e08637705f457ca29f16f6ac2f72d4": {
     "views": []
    },
    "4869148408f540b2ad102e081ac84217": {
     "views": []
    },
    "4d9fc2555b364f54b989ec17de776669": {
     "views": []
    },
    "510f02912f414b8197e5f2a25a465974": {
     "views": []
    },
    "514cdf35fd6e4b6fb55dde595e8bd7cd": {
     "views": []
    },
    "55abe1c9822440759772c838ab56149e": {
     "views": []
    },
    "566daae11076403dab701905a59c429f": {
     "views": []
    },
    "578c3decee1848948a2ef08ffeda40b1": {
     "views": []
    },
    "5a25760c07fc41e3a50593ea0e30c071": {
     "views": []
    },
    "5d6a92aefafa47db83f6fd51c1ad6a46": {
     "views": []
    },
    "659f31c5bcaa4d639ce635a8dc9b8776": {
     "views": []
    },
    "695d6619714240ecb9c31664c6b802a5": {
     "views": []
    },
    "6b4adb29192c466697ec9029e02a27a7": {
     "views": []
    },
    "77dc6a053b624704bf0a587336b3840f": {
     "views": []
    },
    "7a50edf746ab47c1b1b06f8dcfa4826c": {
     "views": [
      {
       "cell_index": 4
      }
     ]
    },
    "7a6887f755e0425784de9c4e25c453dc": {
     "views": [
      {
       "cell_index": 9
      }
     ]
    },
    "7e6ed73e98e2454ab7374d6fa0c82358": {
     "views": []
    },
    "7eb276ad489546d1aa48ee5b3d0d31d1": {
     "views": []
    },
    "818b9c2192de4b49a3dd4927cdb959d2": {
     "views": []
    },
    "8227e147764f4e29b2eca9bf2bfde314": {
     "views": []
    },
    "8da9ab862bd942cdba621d89f896963a": {
     "views": []
    },
    "93e0ad45e1fe46a2860567877864636f": {
     "views": []
    },
    "9f3f2bfb1a864b8e8adf5a137f9bc39f": {
     "views": []
    },
    "a1687b1ccab145a983c3c9687180e127": {
     "views": []
    },
    "a817877145794057a2f1166bd8dbb729": {
     "views": []
    },
    "ab41872ab8474b7f965015dffda32fd1": {
     "views": []
    },
    "b46e6494e8d94a5c831b0f3a91445ef1": {
     "views": []
    },
    "c6192487eb51405aaf2edf9c11669e99": {
     "views": []
    },
    "cb04161a73684b858477c98fde18a255": {
     "views": []
    },
    "cd7824172d1b4fa89d1dd02fa8466e31": {
     "views": []
    },
    "d439d3ce133f42d2979cb381e4663ffe": {
     "views": []
    },
    "d882f9836d5a47f7bb0f841b9caea70d": {
     "views": []
    },
    "e807deccfe214f99ac547fc9377188ad": {
     "views": []
    },
    "e886d297f1b242e199cc433cce5e037f": {
     "views": [
      {
       "cell_index": 11
      }
     ]
    },
    "ef7cce0365444867bc3d49fa6fad69ae": {
     "views": []
    },
    "f69d500f151f4823a6507df4a7348f23": {
     "views": []
    },
    "fd08946850384e3b9b6db59bc2ad8420": {
     "views": []
    }
   },
   "version": "1.1.2"
  }
 },
 "nbformat": 4,
 "nbformat_minor": 0
}
