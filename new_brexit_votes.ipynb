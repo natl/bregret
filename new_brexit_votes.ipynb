{
 "cells": [
  {
   "cell_type": "code",
   "execution_count": 1,
   "metadata": {
    "collapsed": true
   },
   "outputs": [],
   "source": [
    "import numpy as np\n",
    "import matplotlib.pyplot as plt\n",
    "import json\n",
    "from shapely.geometry import shape, MultiPolygon\n",
    "from descartes import PolygonPatch\n",
    "import csv\n",
    "from matplotlib.collections import PatchCollection\n",
    "from matplotlib.patches import Rectangle"
   ]
  },
  {
   "cell_type": "code",
   "execution_count": 5,
   "metadata": {
    "collapsed": false
   },
   "outputs": [
    {
     "name": "stdout",
     "output_type": "stream",
     "text": [
      "New Votes  Constituency\n",
      "-3187       Bracknell\n",
      "  -48       Bradford West\n",
      "   16       Na h-Eileanan an Iar\n",
      "   34       Banff and Buchan\n",
      "   34       Glasgow North East\n",
      "   35       Glenrothes\n",
      "   36       Motherwell and Wishaw\n",
      "   36       Easington\n",
      "   40       Caithness, Sutherland and Easter Ross\n",
      "   41       Orkney and Shetland\n",
      ".....      .....\n",
      "  681       Streatham\n",
      "  684       Hampstead and Kilburn\n",
      "  688       Dulwich and West Norwood\n",
      "  692       Vauxhall\n",
      "  708       Holborn and St Pancras\n",
      "  741       Hackney South and Shoreditch\n",
      "  753       Hackney North and Stoke Newington\n",
      "  755       Hornsey and Wood Green\n",
      "  757       Islington North\n",
      "  991       Bristol West\n"
     ]
    }
   ],
   "source": [
    "with open(\"petition-jun-27-23h.json\") as json_file:\n",
    "    petition_old = json.load(json_file)\n",
    "\n",
    "with open(\"petition-jun-29-8h.json\") as json_file:\n",
    "    petition_new = json.load(json_file)\n",
    "\n",
    "total_petition_votes = 0\n",
    "signatures_by_constituency = {}\n",
    "for constituency in petition_old['data']['attributes']['signatures_by_constituency']:\n",
    "    name = constituency['name']\n",
    "    signatures_by_constituency[name] =\\\n",
    "    {'signatures_old': constituency['signature_count']}\n",
    "    for constituency_new in petition_new['data']['attributes']['signatures_by_constituency']:\n",
    "        if name == constituency_new['name']:\n",
    "            signatures_by_constituency[name]['signatures_new'] = constituency_new['signature_count']\n",
    "    signatures_by_constituency[name]['new_votes'] =\\\n",
    "        signatures_by_constituency[name]['signatures_new'] - signatures_by_constituency[name]['signatures_old']\n",
    "    \n",
    "signature_list = [(k, v['signatures_new'] - v['signatures_old'])\n",
    "                      for (k,v) in signatures_by_constituency.items()]\n",
    "signature_list.sort(key=lambda x: x[1])\n",
    "\n",
    "print(\"New Votes  Constituency\")\n",
    "for constituency in signature_list[:10]:\n",
    "    print(\"%5i       %s\" % constituency[::-1])\n",
    "print(\".....      .....\")\n",
    "for constituency in signature_list[-10:]:\n",
    "    print(\"%5i       %s\" % constituency[::-1])"
   ]
  },
  {
   "cell_type": "code",
   "execution_count": 8,
   "metadata": {
    "collapsed": false
   },
   "outputs": [
    {
     "name": "stdout",
     "output_type": "stream",
     "text": [
      "Votes  Constituency\n",
      "-2563 Bracknell Forest\n",
      "  -79 Wokingham\n",
      "   16 Na h-Eileanan Siar\n",
      "   18 Orkney Islands\n",
      "   22 Shetland Islands\n",
      "   24 Moyle\n",
      "   25 Ballymoney\n",
      "   28 Larne\n",
      "   31 Carrickfergus\n",
      "   34 Boston\n",
      "..... .....\n",
      " 1286 Haringey\n",
      " 1327 Manchester\n",
      " 1420 Islington\n",
      " 1423 Southwark\n",
      " 1493 Hackney\n",
      " 1541 Leeds\n",
      " 1803 Lambeth\n",
      " 1828 Wandsworth\n",
      " 1848 Birmingham\n",
      " 1957 Bristol, City of\n"
     ]
    }
   ],
   "source": [
    "conversions = []\n",
    "with open(\"wards_to_lads.csv\") as csv_file:\n",
    "    reader = csv.reader(csv_file)\n",
    "    for ii, line in enumerate(reader):\n",
    "        if ii != 0:\n",
    "            ward = line[0]\n",
    "            district = line[1]\n",
    "            conversions.append((ward, district))\n",
    "\n",
    "signatures_by_lad = {}\n",
    "for (ward, count) in signatures_by_constituency.items():\n",
    "    matches = 0\n",
    "    for (ward_match, district) in conversions:\n",
    "        if ward == ward_match:\n",
    "            matches += 1\n",
    "        if district not in signatures_by_lad:\n",
    "            signatures_by_lad[district] = 0\n",
    "    \n",
    "    for (ward_match, district) in conversions:\n",
    "        if ward == ward_match:\n",
    "            signatures_by_lad[district] += count['new_votes']/matches\n",
    "\n",
    "signature_list = [[k, v] for (k, v) in signatures_by_lad.items()]\n",
    "signature_list.sort(key=lambda x: x[1])\n",
    "\n",
    "# # tidying\n",
    "# for constituency in signature_list:\n",
    "#     if constituency[0] == \"Na h-Eileanan Siar\":\n",
    "#         constituency[0] = \"Eilean Siar\"\n",
    "        \n",
    "\n",
    "print(\"Votes  Constituency\")\n",
    "for constituency in signature_list[:10]:\n",
    "    print(\"%5i %s\" % tuple(constituency[::-1]))\n",
    "print(\"..... .....\")\n",
    "for constituency in signature_list[-10:]:\n",
    "    print(\"%5i %s\" % tuple(constituency[::-1]))"
   ]
  },
  {
   "cell_type": "code",
   "execution_count": 10,
   "metadata": {
    "collapsed": true
   },
   "outputs": [],
   "source": [
    "def mercator(p):\n",
    "    radius = 6378137\n",
    "    out = [0, 0]\n",
    "    out[0] = np.pi * radius * p[0] / 180;\n",
    "    out[1] = radius * np.log(np.tan((45 + p[1]/2)*np.pi/180));\n",
    "\n",
    "    return out"
   ]
  },
  {
   "cell_type": "code",
   "execution_count": 11,
   "metadata": {
    "collapsed": true
   },
   "outputs": [],
   "source": [
    "# Load in Geo data\n",
    "\n",
    "with open(\"geo_eng_lad.json\") as json_file:\n",
    "    lads = json.load(json_file) \n",
    "\n",
    "feature_collection = lads['features']\n",
    "feature = feature_collection[0]\n",
    "\n",
    "# convert to Mercator\n",
    "for feature in feature_collection:\n",
    "    p = feature['geometry']\n",
    "    if p['type'] == \"Polygon\":\n",
    "        for polygon in p['coordinates']:\n",
    "            for point in polygon:\n",
    "                point[:] = mercator(point)\n",
    "    \n",
    "    elif p['type'] == \"MultiPolygon\":\n",
    "        for polygons in p['coordinates']:\n",
    "            for polygon in polygons:\n",
    "                for point in polygon:\n",
    "                    point[:] = mercator(point)\n",
    "\n"
   ]
  },
  {
   "cell_type": "code",
   "execution_count": 14,
   "metadata": {
    "collapsed": true
   },
   "outputs": [],
   "source": [
    "min_votes = 0\n",
    "max_votes = 2000\n",
    "def get_color(votes):\n",
    "    if votes < 0: return (0, 0, 1)\n",
    "    c = (votes)/(max_votes)\n",
    "    return (1, 1, 1 - c)\n",
    "\n",
    "# Convert to patches\n",
    "\n",
    "patches = []\n",
    "names = []\n",
    "minx = np.Inf\n",
    "miny = np.Inf\n",
    "maxx = -np.Inf\n",
    "maxy = -np.Inf\n",
    "\n",
    "\n",
    "key_exists = []\n",
    "\n",
    "england_names = []\n",
    "for feature in feature_collection:\n",
    "    name = feature['properties']['LAD13NM']\n",
    "    if name == \"Eilean Siar\": name = \"Na h-Eileanan Siar\"\n",
    "    england_names.append(name)\n",
    "    p = shape(feature['geometry'])\n",
    "    try:\n",
    "        votes = signatures_by_lad[name]\n",
    "        key_exists.append(name)\n",
    "    except KeyError:\n",
    "        votes = 0\n",
    "    if isinstance(p, MultiPolygon):\n",
    "        for poly in p:\n",
    "            lminx, lminy, lmaxx, lmaxy = p.bounds\n",
    "            if lminx < minx: minx = lminx\n",
    "            if lminy < miny: miny = lminy\n",
    "            if lmaxx > maxx: maxx = lmaxx\n",
    "            if lmaxy > maxy: maxy = lmaxy\n",
    "            patches.append(PolygonPatch(poly, fc=get_color(votes), ec='#555555', lw=0.2, alpha=1., zorder=1))\n",
    "    else:\n",
    "        patches.append(PolygonPatch(p, fc=get_color(votes), ec='#555555', lw=0.2, alpha=1., zorder=1))\n",
    "        lminx, lminy, lmaxx, lmaxy = p.bounds\n",
    "        if lminx < minx: minx = lminx\n",
    "        if lminy < miny: miny = lminy\n",
    "        if lmaxx > maxx: maxx = lmaxx\n",
    "        if lmaxy > maxy: maxy = lmaxy\n"
   ]
  },
  {
   "cell_type": "code",
   "execution_count": 17,
   "metadata": {
    "collapsed": false
   },
   "outputs": [],
   "source": [
    "fig = plt.figure()\n",
    "ax = fig.add_subplot(111)\n",
    "\n",
    "w, h = maxx - minx, maxy - miny\n",
    "xmin, xmax = minx - 0.2 * w, maxx + 0.2 * w\n",
    "ymin, ymax = miny - 0.2 * h, maxy + 0.2 * h\n",
    "ax.set_xlim([xmin, xmax])\n",
    "ax.set_ylim([ymin, ymax])\n",
    "ax.set_aspect(1)\n",
    "\n",
    "ax.add_collection(PatchCollection(patches, match_original=True))\n",
    "ax.set_xticks([])\n",
    "ax.set_yticks([])\n",
    "\n",
    "#scale\n",
    "delta = h/20\n",
    "x = 0.8*delta\n",
    "ax.add_patch(Rectangle((xmin + w, ymin + 5*delta), x, x, fc=get_color(2000)))\n",
    "ax.text(xmin + w + delta, ymin + 5*delta, \"2000\")\n",
    "ax.add_patch(Rectangle((xmin + w, ymin + 4*delta), x, x, fc=get_color(1000)))\n",
    "ax.text(xmin + w + delta, ymin + 4*delta, \"1000\")\n",
    "ax.add_patch(Rectangle((xmin + w, ymin + 3*delta), x, x, fc=get_color(500)))\n",
    "ax.text(xmin + w + delta, ymin + 3*delta, \"500\")\n",
    "ax.add_patch(Rectangle((xmin + w, ymin + 2*delta), x, x, fc=get_color(0)))\n",
    "ax.text(xmin + w + delta, ymin + 2*delta, \"0\")\n",
    "ax.add_patch(Rectangle((xmin + w, ymin + 1*delta), x, x, fc=get_color(-1)))\n",
    "ax.text(xmin + w + delta, ymin + 1*delta, \"<0\")\n",
    "\n",
    "ax.text(xmin + 0.2*w, ymax - 0.2*w, \"New Petition Signatures\")\n",
    "ax.text(xmin + delta, ymin + delta, \"N. Lampe, 2016\", color=\"gray\", fontsize=\"x-small\")\n",
    "\n",
    "fig.savefig(\"new_signatures.png\", bbox_inches=\"tight\", dpi=300)\n",
    "fig.savefig(\"new_signatures.svg\", bbox_inches=\"tight\")"
   ]
  },
  {
   "cell_type": "code",
   "execution_count": 16,
   "metadata": {
    "collapsed": false
   },
   "outputs": [
    {
     "name": "stdout",
     "output_type": "stream",
     "text": [
      "Votes  Constituency\n",
      "-2563 Bracknell Forest\n",
      "  -79 Wokingham\n",
      "   34 Boston\n",
      "   38 Isles of Scilly\n",
      "   48 Bolsover\n",
      "   49 Barrow-in-Furness\n",
      "   51 Hartlepool\n",
      "   56 Cannock Chase\n",
      "   58 Tamworth\n",
      "   62 Corby\n",
      "..... .....\n",
      " 1286 Haringey\n",
      " 1327 Manchester\n",
      " 1420 Islington\n",
      " 1423 Southwark\n",
      " 1493 Hackney\n",
      " 1541 Leeds\n",
      " 1803 Lambeth\n",
      " 1828 Wandsworth\n",
      " 1848 Birmingham\n",
      " 1957 Bristol, City of\n"
     ]
    }
   ],
   "source": [
    "signature_list = [[k, v] for (k, v) in signatures_by_lad.items() if k in england_names]\n",
    "signature_list.sort(key=lambda x: x[1])\n",
    "        \n",
    "\n",
    "print(\"Votes  Constituency\")\n",
    "for constituency in signature_list[:10]:\n",
    "    print(\"%5i %s\" % tuple(constituency[::-1]))\n",
    "print(\"..... .....\")\n",
    "for constituency in signature_list[-10:]:\n",
    "    print(\"%5i %s\" % tuple(constituency[::-1]))"
   ]
  },
  {
   "cell_type": "code",
   "execution_count": null,
   "metadata": {
    "collapsed": true
   },
   "outputs": [],
   "source": []
  }
 ],
 "metadata": {
  "kernelspec": {
   "display_name": "Python 3",
   "language": "python",
   "name": "python3"
  },
  "language_info": {
   "codemirror_mode": {
    "name": "ipython",
    "version": 3
   },
   "file_extension": ".py",
   "mimetype": "text/x-python",
   "name": "python",
   "nbconvert_exporter": "python",
   "pygments_lexer": "ipython3",
   "version": "3.5.1"
  },
  "widgets": {
   "state": {},
   "version": "1.1.2"
  }
 },
 "nbformat": 4,
 "nbformat_minor": 0
}
